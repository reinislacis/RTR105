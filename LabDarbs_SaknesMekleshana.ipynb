{
 "cells": [
  {
   "cell_type": "markdown",
   "metadata": {},
   "source": [
    "# Laboratorijas darbs 3. Saknes meklēšana."
   ]
  },
  {
   "cell_type": "markdown",
   "metadata": {},
   "source": [
    "Dotā funkcija cos(sqrt(x))."
   ]
  },
  {
   "cell_type": "markdown",
   "metadata": {},
   "source": [
    "Importē cos, sqrt un moduļa rēķināšanas komanda fabs no math.\n",
    "\n",
    "Importēta funkcija aizkavēšanas komandu sleep no time."
   ]
  },
  {
   "cell_type": "code",
   "execution_count": 10,
   "metadata": {},
   "outputs": [],
   "source": [
    "from math import cos, sqrt, fabs\n",
    "from time import sleep"
   ]
  },
  {
   "cell_type": "markdown",
   "metadata": {},
   "source": [
    "Definē funkciju."
   ]
  },
  {
   "cell_type": "code",
   "execution_count": 11,
   "metadata": {},
   "outputs": [],
   "source": [
    "def f(x):\n",
    "    return cos(sqrt(x))"
   ]
  },
  {
   "cell_type": "markdown",
   "metadata": {},
   "source": [
    "Nosaka intervālu, starp kuru meklēs saknes."
   ]
  },
  {
   "cell_type": "code",
   "execution_count": 12,
   "metadata": {},
   "outputs": [],
   "source": [
    "a = 1.1\n",
    "b = 3.2"
   ]
  },
  {
   "cell_type": "markdown",
   "metadata": {},
   "source": [
    "Aprēķina funkcijas vērtības abos galapunktos."
   ]
  },
  {
   "cell_type": "code",
   "execution_count": 13,
   "metadata": {},
   "outputs": [],
   "source": [
    "funa = f(a)\n",
    "funb = f(b)\n"
   ]
  },
  {
   "cell_type": "markdown",
   "metadata": {},
   "source": [
    "Nosaka vai intervālā ir iespējams sakni atrast."
   ]
  },
  {
   "cell_type": "code",
   "execution_count": 14,
   "metadata": {},
   "outputs": [
    {
     "name": "stdout",
     "output_type": "stream",
     "text": [
      "Dotajaa intervaalaa sakne(s) ir!\n"
     ]
    }
   ],
   "source": [
    "if (funa * funb > 0.0):\n",
    "    print(\"Dotajaa intervaalaa [%s, %s] saknju nav\"%(a,b))\n",
    "    sleep(1); exit()  \n",
    "else:\n",
    "    print (\"Dotajaa intervaalaa sakne(s) ir!\")"
   ]
  },
  {
   "cell_type": "markdown",
   "metadata": {},
   "source": [
    "Definē precizitāti, ar kuru meklēs sakni.\n",
    "\n",
    "Lai noteiktu cik reizes vajadzēs sašaurināt intervālu, izveido mainīgo c. Tas no sākuma ir nulle, bet ciklam izpildoties, tas palielinas par 1.\n",
    "\n",
    "Cikliski samazina robežas, lai noteiktu sakni. Sakne ir atrasta, kad abu galapunktu starpība ir mazāka par precizitāti.\n",
    "\n",
    "Argumenta vērtība ir abu galapunktu summas puse. Vērtību pēc tam ievieto funkcijā un, ja, sareizinot šo vērtību ar sākumpunkta vērtību, rezultāts ir mazāks par 0, tad galapunkts intervālam būs argumenta vērtība. Savādākā gadījumā sākumpunkts ir argumenta  vērtība."
   ]
  },
  {
   "cell_type": "code",
   "execution_count": 15,
   "metadata": {},
   "outputs": [],
   "source": [
    "deltax = 0.01\n",
    "c=0\n",
    "while (fabs (b-a) > deltax ):\n",
    "    c=c+1\n",
    "    x = (a+b)/2; funx = f(x)\n",
    "    if ( funa*funx < 0. ):\n",
    "        b=x\n",
    "    else:\n",
    "        a=x"
   ]
  },
  {
   "cell_type": "markdown",
   "metadata": {},
   "source": [
    "Definē funkciju, ar kuru noteiks attiecīgi funkcijas vērtību pie dotā x."
   ]
  },
  {
   "cell_type": "code",
   "execution_count": 16,
   "metadata": {},
   "outputs": [],
   "source": [
    "mana_funkcija=cos(sqrt(x))"
   ]
  },
  {
   "cell_type": "markdown",
   "metadata": {},
   "source": [
    "Printē argumenta vērtību, funkcijas vērtību un cik reizes bija jāsamazina intervāls."
   ]
  },
  {
   "cell_type": "code",
   "execution_count": 17,
   "metadata": {},
   "outputs": [
    {
     "name": "stdout",
     "output_type": "stream",
     "text": [
      "Sakne ir:  2.4699218750000003\n",
      "Funkcijas vertiba ir: -0.0008021825991469716\n",
      "Tik reizes dalija uz pusem 8\n"
     ]
    }
   ],
   "source": [
    "print (\"Sakne ir: \", x)\n",
    "print (\"Funkcijas vertiba ir:\", mana_funkcija)\n",
    "print (\"Tik reizes dalija uz pusem\", c)"
   ]
  }
 ],
 "metadata": {
  "kernelspec": {
   "display_name": "Python 3",
   "language": "python",
   "name": "python3"
  },
  "language_info": {
   "codemirror_mode": {
    "name": "ipython",
    "version": 3
   },
   "file_extension": ".py",
   "mimetype": "text/x-python",
   "name": "python",
   "nbconvert_exporter": "python",
   "pygments_lexer": "ipython3",
   "version": "3.6.7"
  }
 },
 "nbformat": 4,
 "nbformat_minor": 2
}
