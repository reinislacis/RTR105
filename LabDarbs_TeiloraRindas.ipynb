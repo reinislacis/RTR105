{
 "cells": [
  {
   "cell_type": "markdown",
   "metadata": {},
   "source": [
    "# Laboratorijas darbs 1. Teilora rindas.        "
   ]
  },
  {
   "cell_type": "markdown",
   "metadata": {},
   "source": [
    "Dotā funkcija cos(sqrt(x))."
   ]
  },
  {
   "cell_type": "markdown",
   "metadata": {},
   "source": [
    "Tiek importēts cos un sqrt no math."
   ]
  },
  {
   "cell_type": "code",
   "execution_count": 1,
   "metadata": {},
   "outputs": [],
   "source": [
    "from math import cos, sqrt"
   ]
  },
  {
   "cell_type": "markdown",
   "metadata": {},
   "source": [
    "Tiek definēta funkcija, ar kuru tiks aprēķināts cos(sqrt(x)).\n",
    "\n",
    "No sākuma tiek aprēķināts pirmais elements un izprintēts.\n",
    "\n",
    "Veido ciklu, kurā mainīgais k palielinās par 1 katru reizi. Veidots reizinātājs R ar palielināto k palīdzību. Pie sākuma elementa a piereizina rekurences reizinātāju R. Tagad S ir vienāds ar jaunu S, kuru aprēķināja pieskaitot jauno a vērtību.\n",
    "\n",
    "Kopā ar pirmo elementu izprintē arī 499. un 500. elmentus\n",
    "\n",
    "Pēc tam izdod aprēķināto cos(sqrt(x)). (return S)"
   ]
  },
  {
   "cell_type": "code",
   "execution_count": 2,
   "metadata": {},
   "outputs": [],
   "source": [
    "def mans_cossqrt(x):\n",
    "    k = 0\n",
    "    a = (-1)**0*x**0/(1)\n",
    "    S = a\n",
    "    print(\"Izdruka no liet.f. a0 = %6.2f S0 = %6.2f\"%(a,S))\n",
    "    while k < 500:\n",
    "        k = k + 1\n",
    "        R = (-1)*x/((2*k)*(2*k-1))\n",
    "        a = a * R\n",
    "        S = S + a\n",
    "        if k == 499:\n",
    "             print(\"Izdruka no liet.f. a499 = %6.2f S499 = %6.2f\"%(a,S))\n",
    "    print(\"Izdruka no liet.f. a500 = %6.2f S500 = %6.2f\"%(a,S))\n",
    "    print(\"Izdruka no liet.f. Beigas!\")\n",
    "    return S "
   ]
  },
  {
   "cell_type": "markdown",
   "metadata": {},
   "source": [
    "Tiek prasīts, lai lietotājs ievada x vērtību.\n",
    "\n",
    "Tiek definēta funkcija y pēc cossqrt, kas importēts no math.\n",
    "\n",
    "Printē cos(sqrt(x)) vērtību, kuru ieguva pēc definīcijas."
   ]
  },
  {
   "cell_type": "code",
   "execution_count": 3,
   "metadata": {},
   "outputs": [
    {
     "name": "stdout",
     "output_type": "stream",
     "text": [
      "Lietotāj, lūdzu, ievadi argumentu (x): 5\n",
      "standarta cossqrt(5.00) =  -0.62\n"
     ]
    }
   ],
   "source": [
    "x = float(input(\"Lietotāj, lūdzu, ievadi argumentu (x): \"))\n",
    "y = cos(sqrt(x))\n",
    "print(\"standarta cossqrt(%.2f) = %6.2f\"%(x,y))\n"
   ]
  },
  {
   "cell_type": "markdown",
   "metadata": {},
   "source": [
    "Tiek piedefinēta funkcija yy pēc kodā izveidotā cossqrt.\n",
    "\n",
    "Izprintē cos(sqrt(x)) vērtības, kuras ieguva iepriekš ar cikla palīdzību."
   ]
  },
  {
   "cell_type": "code",
   "execution_count": 4,
   "metadata": {},
   "outputs": [
    {
     "name": "stdout",
     "output_type": "stream",
     "text": [
      "Izdruka no liet.f. a0 =   1.00 S0 =   1.00\n",
      "Izdruka no liet.f. a499 =  -0.00 S499 =  -0.62\n",
      "Izdruka no liet.f. a500 =   0.00 S500 =  -0.62\n",
      "Izdruka no liet.f. Beigas!\n",
      "mans cossqrt(5.00) =  -0.62\n"
     ]
    }
   ],
   "source": [
    "yy = mans_cossqrt(x)\n",
    "print(\"mans cossqrt(%.2f) = %6.2f\"%(x,yy))"
   ]
  },
  {
   "cell_type": "markdown",
   "metadata": {},
   "source": [
    "Definē bezgalības simbolu. Tiek veidots zimējums ar print funkcijām.\n",
    "\n"
   ]
  },
  {
   "cell_type": "code",
   "execution_count": 5,
   "metadata": {},
   "outputs": [
    {
     "name": "stdout",
     "output_type": "stream",
     "text": [
      " \n",
      "                 500\n",
      "                _____\n",
      "               \\         k    k\n",
      "                \\    (-1) * x \n",
      "cos(sqrt(5.00/2))=>  __________            D.a. -∞ < x < ∞ \n",
      "                /                    \n",
      "               /____ (2*k)! \n",
      "                k=0\n",
      " \n",
      "                                1     1\n",
      "                            (-1)  * x \n",
      "rekurences reizinātājs: _________________\n",
      "                                         \n",
      "                         (2*k-1) * (2*k) \n"
     ]
    }
   ],
   "source": [
    "b=u\"\\u221E\"\n",
    "print(\" \")\n",
    "print(\"                 500\")\n",
    "print(\"                _____\")\n",
    "print(\"               \\         k    k\")\n",
    "print(\"                \\    (-1) * x \")\n",
    "print(\"cos(sqrt(%.2f/2))=>  __________            D.a. -%s < x < %s \"%(x,b,b))\n",
    "print(\"                /                    \")\n",
    "print(\"               /____ (2*k)! \")\n",
    "print(\"                k=0\")\n",
    "print(\" \")\n",
    "print(\"                                1     1\")\n",
    "print(\"                            (-1)  * x \")\n",
    "print(\"rekurences reizinātājs: _________________\")\n",
    "print(\"                                         \")\n",
    "print(\"                         (2*k-1) * (2*k) \")"
   ]
  }
 ],
 "metadata": {
  "kernelspec": {
   "display_name": "Python 3",
   "language": "python",
   "name": "python3"
  },
  "language_info": {
   "codemirror_mode": {
    "name": "ipython",
    "version": 3
   },
   "file_extension": ".py",
   "mimetype": "text/x-python",
   "name": "python",
   "nbconvert_exporter": "python",
   "pygments_lexer": "ipython3",
   "version": "3.6.7"
  }
 },
 "nbformat": 4,
 "nbformat_minor": 2
}
